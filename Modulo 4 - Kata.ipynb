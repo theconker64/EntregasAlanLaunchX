{
 "cells": [
  {
   "cell_type": "markdown",
   "metadata": {},
   "source": [
    "## Ejercicio 1: Transformar cadenas"
   ]
  },
  {
   "cell_type": "code",
   "execution_count": 4,
   "metadata": {},
   "outputs": [
    {
     "data": {
      "text/plain": [
       "[\"Interesting facts about the Moon. The Moon is Earth's only satellite. There are several interesting facts about the Moon and how it affects life here on Earth. \",\n",
       " 'On average, the Moon moves 4cm away from the Earth every year. This yearly drift is not significant enough to cause immediate effects on Earth. The highest daylight temperature of the Moon is 127 C.']"
      ]
     },
     "execution_count": 4,
     "metadata": {},
     "output_type": "execute_result"
    }
   ],
   "source": [
    "######## Texto a trabajar - text.split(\"\\n\")\n",
    "\n",
    "text = \"\"\"Interesting facts about the Moon. The Moon is Earth's only satellite. There are several interesting facts about the Moon and how it affects life here on Earth. \n",
    "On average, the Moon moves 4cm away from the Earth every year. This yearly drift is not significant enough to cause immediate effects on Earth. The highest daylight temperature of the Moon is 127 C.\"\"\"\n",
    "\n",
    "text.split(\"\\n\")"
   ]
  },
  {
   "cell_type": "code",
   "execution_count": 16,
   "metadata": {},
   "outputs": [
    {
     "data": {
      "text/plain": [
       "['Interesting facts about the Moon',\n",
       " \"The Moon is Earth's only satellite\",\n",
       " 'There are several interesting facts about the Moon and how it affects life here on Earth',\n",
       " '\\nOn average, the Moon moves 4cm away from the Earth every year',\n",
       " 'This yearly drift is not significant enough to cause immediate effects on Earth',\n",
       " 'The highest daylight temperature of the Moon is 127 C.']"
      ]
     },
     "execution_count": 16,
     "metadata": {},
     "output_type": "execute_result"
    }
   ],
   "source": [
    "######## Texto a trabajar - text.split(\". \")\n",
    "\n",
    "text = \"\"\"Interesting facts about the Moon. The Moon is Earth's only satellite. There are several interesting facts about the Moon and how it affects life here on Earth. \n",
    "On average, the Moon moves 4cm away from the Earth every year. This yearly drift is not significant enough to cause immediate effects on Earth. The highest daylight temperature of the Moon is 127 C.\"\"\"\n",
    "\n",
    "text.split(\". \")"
   ]
  },
  {
   "cell_type": "code",
   "execution_count": 46,
   "metadata": {},
   "outputs": [
    {
     "name": "stdout",
     "output_type": "stream",
     "text": [
      "\n",
      "On average, the Moon moves 4cm away from the Earth every year\n",
      "The highest daylight temperature of the Moon is 127 C.\n",
      "\n",
      "On average, the Moon moves 4cm away from the Earth every year\n",
      "The highest daylight temperature of the Moon is 127 Celsius.\n"
     ]
    }
   ],
   "source": [
    "######## Ciclo for para recorrer la cadena\n",
    "\n",
    "text = \"\"\"Interesting facts about the Moon. The Moon is Earth's only satellite. There are several interesting facts about the Moon and how it affects life here on Earth. \n",
    "On average, the Moon moves 4cm away from the Earth every year. This yearly drift is not significant enough to cause immediate effects on Earth. The highest daylight temperature of the Moon is 127 C.\"\"\"\n",
    "\n",
    "tex = text.split(\". \")\n",
    "palabras = [\"average\", \"temperature\", \"distance\"]\n",
    "\n",
    "for i in tex:\n",
    "    for palabra in palabras:\n",
    "        if palabra in i:\n",
    "            print(i)\n",
    "            break\n",
    "        \n",
    "######## Ciclo para cambiar C a Celsius\n",
    "\n",
    "text = \"\"\"Interesting facts about the Moon. The Moon is Earth's only satellite. There are several interesting facts about the Moon and how it affects life here on Earth. \n",
    "On average, the Moon moves 4cm away from the Earth every year. This yearly drift is not significant enough to cause immediate effects on Earth. The highest daylight temperature of the Moon is 127 C.\"\"\"\n",
    "\n",
    "tex = text.split(\". \")\n",
    "palabras = [\"average\", \"temperature\", \"distance\"]\n",
    "\n",
    "for i in tex:\n",
    "    for palabra in palabras:\n",
    "        if palabra in i:\n",
    "            print(i.replace(\"C\", \"Celsius\"))\n",
    "            break\n"
   ]
  },
  {
   "cell_type": "code",
   "execution_count": 47,
   "metadata": {},
   "outputs": [
    {
     "name": "stdout",
     "output_type": "stream",
     "text": [
      "Después de todo, vimos noticias de Fire Emblem, Super Wario Strikers, Chrono Cross y hasta Xenoblade Chronicles\n",
      "Aun así, es innegable que algunos títulos como The Legend of Zelda: Breath of The Wild 2, Metroid Prime 4, Hollow knight: Silksong y Wario Kart 9 brillaron por su ausencia, lo que, naturalmente, decepcionó a un sector de los jugadores.\n"
     ]
    }
   ],
   "source": [
    "#### Repaso \n",
    "noticia = \"En términos generales, el Nintendo Direct del miércoles 9 de febrero fue satisfactorio y cumplió con las expectativas de todos los espectadores. Después de todo, vimos noticias de Fire Emblem, Super Mario Strikers, Chrono Cross y hasta Xenoblade Chronicles. Sin duda, la mera presencia de estos juegos es más que suficiente para emocionar a los fanáticos. Aun así, es innegable que algunos títulos como The Legend of Zelda: Breath of The Wild 2, Metroid Prime 4, Hollow knight: Silksong y Mario Kart 9 brillaron por su ausencia, lo que, naturalmente, decepcionó a un sector de los jugadores.\"\n",
    "nota = noticia.split(\". \")\n",
    "palabrasClave = [\"Mario\"]\n",
    "\n",
    "for i in nota:\n",
    "    for a in palabrasClave:\n",
    "        if a in i:\n",
    "            print(i.replace(\"Mario\", \"Wario\"))\n"
   ]
  },
  {
   "cell_type": "markdown",
   "metadata": {},
   "source": [
    "## Ejercicio 2: Formateando Cadenas\n"
   ]
  },
  {
   "cell_type": "code",
   "execution_count": 5,
   "metadata": {},
   "outputs": [
    {
     "name": "stdout",
     "output_type": "stream",
     "text": [
      "La Gravedad En La Tierra Y La Luna: - Moon \n",
      "------------------------------------------- \n",
      "Nombre del planeta: Earth \n",
      "Gravedad en Moon: 1.62 m/s²\n",
      "-------------------------------------------\n",
      "\n",
      "\n",
      "\n",
      "La gravedad en la Tierra y la Luna: - Ganímedes\n",
      "------------------------------------------- \n",
      "Nombre del planeta: Marte \n",
      "Gravedad en Ganímedes: 1.43 m/s2\n",
      "-------------------------------------------\n",
      "\n"
     ]
    }
   ],
   "source": [
    "name = \"Moon\"\n",
    "gravity = 0.00162 # in kms\n",
    "planet = \"Earth\"\n",
    "\n",
    "title = f'La gravedad en la Tierra y la Luna: - {name}'\n",
    "\n",
    "hechos = f\"\"\"{'-'*43} \n",
    "Nombre del planeta: {planet} \n",
    "Gravedad en {name}: {round(gravity * 1000, 2)} m/s²\"\"\"\n",
    "\n",
    "final = f\"\"\"{title.title()} \n",
    "{hechos}\n",
    "{'-'*43}\"\"\" \n",
    "\n",
    "print(final)\n",
    "\n",
    "######################################\n",
    "\n",
    "planeta = 'Marte '\n",
    "gravedad  = 0.00143\n",
    "nombre = 'Ganímedes'\n",
    "\n",
    "new_final = \"\"\"\n",
    "\n",
    "\n",
    "La gravedad en la Tierra y la Luna: - {nom}\n",
    "------------------------------------------- \n",
    "Nombre del planeta: {planet}\n",
    "Gravedad en {nom}: {gravity} m/s2\n",
    "-------------------------------------------\n",
    "\"\"\"\n",
    "print(new_final.format(nom = nombre, planet = planeta, gravity = round(gravedad*1000, 2))) # Probando round para redondear\n",
    "\n"
   ]
  }
 ],
 "metadata": {
  "interpreter": {
   "hash": "4e0b39fdc4f2df2992ef135d097972ec225e019845a073717c5b1bc8df292c8a"
  },
  "kernelspec": {
   "display_name": "Python 3.10.2 64-bit",
   "language": "python",
   "name": "python3"
  },
  "language_info": {
   "codemirror_mode": {
    "name": "ipython",
    "version": 3
   },
   "file_extension": ".py",
   "mimetype": "text/x-python",
   "name": "python",
   "nbconvert_exporter": "python",
   "pygments_lexer": "ipython3",
   "version": "3.10.2"
  },
  "orig_nbformat": 4
 },
 "nbformat": 4,
 "nbformat_minor": 2
}

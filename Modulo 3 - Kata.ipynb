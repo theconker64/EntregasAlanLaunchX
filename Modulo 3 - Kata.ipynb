{
 "cells": [
  {
   "cell_type": "markdown",
   "metadata": {},
   "source": [
    "## Ejercicio 1 - Escribir declaraciones if, else, y elif"
   ]
  },
  {
   "cell_type": "code",
   "execution_count": 2,
   "metadata": {},
   "outputs": [
    {
     "name": "stdout",
     "output_type": "stream",
     "text": [
      "La velocidad del asteroide es de  49 km/s , ADVERTENCIA!\n"
     ]
    }
   ],
   "source": [
    "#### Ejercicio 1.\n",
    "# Añadir el código necesario para crear una variable que guarde la velocidad del asteroide.\n",
    "# Escribe una expresión de prueba para calcular si necesita una advertencia.\n",
    "# Agregue las instrucciones que se ejecutarán si la expresión de prueba es true o false. \n",
    "astr = 49\n",
    "if astr > 25:\n",
    "    print(\"La velocidad del asteroide es de \", str(astr), \"km/s\", \", ADVERTENCIA!\")\n",
    "else:\n",
    "    print(\"El asteroide viaja a una velocidad adecuada de \", str(astr), \"km/s\")"
   ]
  },
  {
   "cell_type": "code",
   "execution_count": 16,
   "metadata": {},
   "outputs": [
    {
     "name": "stdout",
     "output_type": "stream",
     "text": [
      "Se acerca un asteroide que a una velocidad de  26 km/s  es posible que veas una luz arriba!\n"
     ]
    }
   ],
   "source": [
    "#### Ejercicio 2.\n",
    "# Agrega el código para crear una variable para un asteroide que viaja a 19 km/s\n",
    "# Escribe varias expresiones de prueba para determinar si puedes ver el rayo de luz desde la tierra\n",
    "# Agrega las instrucciones que se ejecutarán si las expresiones de prueba son True o False\n",
    "astr = 26\n",
    "if astr > 20:\n",
    "    print(\"Se acerca un asteroide que a una velocidad de \", str(astr), \"km/s\", \" es posible que veas una luz en el cielo!\")\n",
    "elif astr >= 20:\n",
    "    print(\"Se acerca un asteroide que a una velocidad de \", str(astr), \"km/s\", \" es posible que veas una luz en el cielo!\")\n",
    "else:\n",
    "    print(\"No es posible observar nada en el cielo.\")\n"
   ]
  },
  {
   "cell_type": "code",
   "execution_count": 8,
   "metadata": {},
   "outputs": [
    {
     "name": "stdout",
     "output_type": "stream",
     "text": [
      "Un asteroide se acerca a  25 km/s  y tiene un tamaño de:  25 m\n",
      "ADVERTENCIA, Representa un peligro para la tierra. \n"
     ]
    }
   ],
   "source": [
    "#### Ejercicio 3.\n",
    "# Agrega el código para crear nuevas variables para la velocidad y el tamaño del asteroide\n",
    "# Para probar el código, prueba con varias velocidades y tamaños\n",
    "# Escribe varias expresiones de prueba o combinaciones de expresiones de prueba para determinar qué mensaje se debe enviar a Tierra.\n",
    "\n",
    "velAstr = 25\n",
    "tamAstr = 25\n",
    "\n",
    "if velAstr >= 25 and (tamAstr >= 25 and tamAstr <= 1000):\n",
    "    print(\"Un asteroide se acerca a \", str(velAstr), \"km/s\", \" y tiene un tamaño de: \", str(tamAstr), \"m\")\n",
    "    print(\"ADVERTENCIA, Representa un peligro para la tierra. \")\n",
    "elif velAstr > 20 and tamAstr < 25:\n",
    "    print(\"Un asteroide se acerca a \", str(velAstr), \"km/s\", \" y tiene un tamaño de: \", str(tamAstr), \"m\")\n",
    "    print(\"No representa un peligro para la tierra.\")\n",
    "elif velAstr >= 20 and tamAstr < 25:\n",
    "    print(\"Un asteroide se acerca a \", str(velAstr), \"km/s\", \" y tiene un tamaño de: \", str(tamAstr), \"m\")\n",
    "    print(\"Es posible que veas una luz en el cielo, y no representa un peligro ya que se quemara entrando a la atmosfera.\")\n",
    "elif velAstr < 20 and tamAstr < 25:\n",
    "    print(\"Un asteroide se acerca a \", str(velAstr), \"km/s\", \" y tiene un tamaño de: \", str(tamAstr), \"m\")\n",
    "    print(\"No hay nada que ver en el cielo, y no representa un peligro ya que se quemara entrando a la atmosfera.\")\n",
    "elif velAstr < 25 and (tamAstr >= 25 or tamAstr <= 1000):\n",
    "    print(\"Un asteroide se acerca a \", str(velAstr), \"km/s\", \" y tiene un tamaño de: \", str(tamAstr), \"m\")\n",
    "    print(\"ADVERTENCIA, Tiene un tamaño enorme, posiblemente golpeara la Tierra.\")"
   ]
  },
  {
   "cell_type": "markdown",
   "metadata": {},
   "source": [
    "## Solución otorgada por el tutor.\n"
   ]
  },
  {
   "cell_type": "code",
   "execution_count": null,
   "metadata": {},
   "outputs": [],
   "source": [
    "velocidad_asteroide = 25\n",
    "tamano_asteroide = 500\n",
    "if velocidad_asteroide > 25 and tamano_asteroide > 25:\n",
    "    print('¡Alerta, Un asteroide muy peligroso viene hacia la Tierra!')\n",
    "elif velocidad_asteroide >= 20:\n",
    "    print('Look up! ¡Hay una luz mágica en el cielo!')\n",
    "elif tamano_asteroide < 25:\n",
    "    print('Nada que ver aquí :)')\n",
    "else:\n",
    "    print('Nada que ver aquí :)')\n",
    "    "
   ]
  }
 ],
 "metadata": {
  "interpreter": {
   "hash": "4e0b39fdc4f2df2992ef135d097972ec225e019845a073717c5b1bc8df292c8a"
  },
  "kernelspec": {
   "display_name": "Python 3.10.2 64-bit",
   "language": "python",
   "name": "python3"
  },
  "language_info": {
   "codemirror_mode": {
    "name": "ipython",
    "version": 3
   },
   "file_extension": ".py",
   "mimetype": "text/x-python",
   "name": "python",
   "nbconvert_exporter": "python",
   "pygments_lexer": "ipython3",
   "version": "3.10.2"
  },
  "orig_nbformat": 4
 },
 "nbformat": 4,
 "nbformat_minor": 2
}

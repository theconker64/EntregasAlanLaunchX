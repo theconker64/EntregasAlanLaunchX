{
 "cells": [
  {
   "cell_type": "markdown",
   "metadata": {},
   "source": [
    "## Ejercicio 1: Crear y usar listas de Python\n"
   ]
  },
  {
   "cell_type": "code",
   "execution_count": 9,
   "metadata": {},
   "outputs": [
    {
     "name": "stdout",
     "output_type": "stream",
     "text": [
      "El número de planetas es:  9\n",
      "El último planeta es de:  Pluton\n"
     ]
    }
   ],
   "source": [
    "# Creamos la lista planets y la mostramos\n",
    "# Agregamos a plutón y mostramos el último elemento\n",
    "\n",
    "\n",
    "planets = ['Mercurio', 'Venus', 'Tierra', 'Marte', 'Jupiter', 'Saturno', 'Urano', 'Neptuno']\n",
    "planets.append('Pluton')\n",
    "print(\"El número de planetas es: \", len(planets))\n",
    "print(\"El último planeta es de: \", planets[-1])\n",
    "\n",
    "\n"
   ]
  },
  {
   "cell_type": "markdown",
   "metadata": {},
   "source": [
    "## Ejercicio 2: Trabajando con datos de una lista\n"
   ]
  },
  {
   "cell_type": "code",
   "execution_count": 18,
   "metadata": {},
   "outputs": [
    {
     "name": "stdout",
     "output_type": "stream",
     "text": [
      "Introduciste: Pluton\n",
      "Lista de planetas más cercanos al sol en comparación de Pluton: \n",
      "    ['Mercury', 'Venus', 'Earth', 'Mars', 'Jupiter', 'Saturn', 'Neptune']\n",
      "------------------------------------------------------------\n",
      "Lista de planetas más lejanos al sol en comparación de Pluton:\n",
      "    []\n"
     ]
    }
   ],
   "source": [
    "# Lista de planetas\n",
    "# Solicitamos el nombre de un planeta\n",
    "# Busca el planeta en la lista\n",
    "# Muestra los planetas más cercanos al sol\n",
    "\n",
    "planets = [\"Mercury\", \"Venus\", \"Earth\", \"Mars\", \"Jupiter\", \"Saturn\", \"Neptune\"]\n",
    "planetaprocesado = input(\"Escribe el nombre de un planeta (empieza con una letra mayuscula, pls)\")\n",
    "planets.append(\"Pluto\")\n",
    "\n",
    "if planetaprocesado in planets:\n",
    "    planets_index = planets.index(planetaprocesado)\n",
    "    print(\"Introduciste: \" + planetaprocesado)\n",
    "    print(f\"\"\"Lista de planetas más cercanos al sol en comparación de {planetaprocesado}: \n",
    "    {planets[0:planets_index]}\"\"\")\n",
    "    print(\"-\"*60)\n",
    "    print(f\"\"\"Lista de planetas más lejanos al sol en comparación de {planetaprocesado}:\n",
    "    {planets[planets_index+1:]}\"\"\")\n",
    "else: \n",
    "    print(\"Introduce el nombre correcto del planeta.\")\n",
    "\n"
   ]
  }
 ],
 "metadata": {
  "interpreter": {
   "hash": "4e0b39fdc4f2df2992ef135d097972ec225e019845a073717c5b1bc8df292c8a"
  },
  "kernelspec": {
   "display_name": "Python 3.10.2 64-bit",
   "language": "python",
   "name": "python3"
  },
  "language_info": {
   "codemirror_mode": {
    "name": "ipython",
    "version": 3
   },
   "file_extension": ".py",
   "mimetype": "text/x-python",
   "name": "python",
   "nbconvert_exporter": "python",
   "pygments_lexer": "ipython3",
   "version": "3.10.2"
  },
  "orig_nbformat": 4
 },
 "nbformat": 4,
 "nbformat_minor": 2
}

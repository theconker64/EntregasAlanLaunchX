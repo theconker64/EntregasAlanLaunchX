{
 "cells": [
  {
   "cell_type": "markdown",
   "metadata": {},
   "source": [
    "## Ejercicio 1: Trabajar con argumentos en funciones\n"
   ]
  },
  {
   "cell_type": "code",
   "execution_count": 22,
   "metadata": {},
   "outputs": [
    {
     "name": "stdout",
     "output_type": "stream",
     "text": [
      "\n",
      "            El promedio de los tanques es: 11.67%\n",
      "            Tanque uno:  13%\n",
      "            Tanque dos:  12%\n",
      "            Tanque tres: 10%\n"
     ]
    }
   ],
   "source": [
    "# Función para leer 3 tanques de combustible y muestre el promedio\n",
    "def promedio(values):\n",
    "    total = sum(values)\n",
    "    num_items = len(values)\n",
    "    return total / num_items\n",
    "\n",
    "\n",
    "def combustible(tanque1, tanque2, tanque3):\n",
    "    return (f'''\n",
    "            El promedio de los tanques es: {round(promedio([tanque1, tanque2, tanque3]), 2)}%\n",
    "            Tanque uno:  {round(tanque1)}%\n",
    "            Tanque dos:  {round(tanque2)}%\n",
    "            Tanque tres: {round(tanque3)}%''')\n",
    "\n",
    "print(combustible(13,12,10))"
   ]
  },
  {
   "cell_type": "markdown",
   "metadata": {},
   "source": [
    "## Ejercicio 2: Trabajo con argumentos de palabra clave\n"
   ]
  },
  {
   "cell_type": "code",
   "execution_count": 45,
   "metadata": {},
   "outputs": [
    {
     "name": "stdout",
     "output_type": "stream",
     "text": [
      "\n",
      "      Mision a: Marte\n",
      "      Tiempo total de viaje: 70 minutos\n",
      "      Combustible restante: 1100000\n",
      "    \n",
      "      Tanque interno --> 500000 galones restantes\n",
      "      Tanque externo --> 600000 galones restantes\n"
     ]
    }
   ],
   "source": [
    "def mision(destino, *minutos, **combustible):\n",
    "    main_report = f\"\"\"\n",
    "      Mision a: {destino}\n",
    "      Tiempo total de viaje: {sum(minutos)} minutos\n",
    "      Combustible restante: {sum(combustible.values())}\n",
    "    \"\"\"\n",
    "    for tanque, galones in combustible.items():\n",
    "        main_report += f\"\"\"\n",
    "      Tanque {tanque} --> {galones} galones restantes\"\"\" \n",
    "    return main_report\n",
    "\n",
    "print(mision(\"Marte\", 16, 22, 32, interno=500000, externo=600000))"
   ]
  }
 ],
 "metadata": {
  "interpreter": {
   "hash": "4e0b39fdc4f2df2992ef135d097972ec225e019845a073717c5b1bc8df292c8a"
  },
  "kernelspec": {
   "display_name": "Python 3.10.2 64-bit",
   "language": "python",
   "name": "python3"
  },
  "language_info": {
   "codemirror_mode": {
    "name": "ipython",
    "version": 3
   },
   "file_extension": ".py",
   "mimetype": "text/x-python",
   "name": "python",
   "nbconvert_exporter": "python",
   "pygments_lexer": "ipython3",
   "version": "3.10.2"
  },
  "orig_nbformat": 4
 },
 "nbformat": 4,
 "nbformat_minor": 2
}

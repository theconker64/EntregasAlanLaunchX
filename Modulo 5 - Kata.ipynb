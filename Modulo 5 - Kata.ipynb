{
 "cells": [
  {
   "cell_type": "markdown",
   "metadata": {},
   "source": [
    "## Ejercicio 1 - Utilizar operadores aritméticos\n"
   ]
  },
  {
   "cell_type": "code",
   "execution_count": 22,
   "metadata": {},
   "outputs": [
    {
     "name": "stdout",
     "output_type": "stream",
     "text": [
      "La distancia entre Tierra y Jupiter es de: 628949330 km.\n",
      "Distancia recorrida en millas: 390577533.93 millas.\n"
     ]
    }
   ],
   "source": [
    "# Crear variables para almacenar las dos distancias\n",
    "# ¡Asegúrate de quitar las comas!\n",
    "# Calcular la distancia entre planetas\n",
    "\n",
    "\n",
    "tierra = 149597870\n",
    "tierraN = \"Tierra\"\n",
    "jupiter = 778547200\n",
    "jupiterN = \"Jupiter\"\n",
    "op = jupiter - tierra\n",
    "\n",
    "final = f\"\"\"La distancia entre {tierraN} y {jupiterN} es de: {op} km.\"\"\"\n",
    "\n",
    "print (final)\n",
    "\n",
    "ctitle = f\"\"\"Distancia recorrida en millas: {op*0.621} millas.\"\"\"\n",
    "print (ctitle)"
   ]
  },
  {
   "cell_type": "markdown",
   "metadata": {},
   "source": [
    "## Ejercicio 2: convierte cadenas en números y usa valores absolutos\n"
   ]
  },
  {
   "cell_type": "code",
   "execution_count": 27,
   "metadata": {},
   "outputs": [
    {
     "name": "stdout",
     "output_type": "stream",
     "text": [
      "La distancia del Planeta 1 entre el Planeta 2 es de: 119700000\n",
      "La distancia en millas es de:  74333700.0 millas\n"
     ]
    }
   ],
   "source": [
    "# Almacenar las entradas del usuario\n",
    "# Pista: variable = input(\"¿Cuál es tu nombre?\")\n",
    "# Convierte las cadenas de ambos planetas a números enteros\n",
    "# Realizar el cálculo y determinar el valor absoluto\n",
    "\n",
    "\n",
    "\"\"\" PLANETAS  |  DISTANCIAS            \n",
    "Mercurio  |  57900000\n",
    "Venus\t  |  108200000\n",
    "Tierra\t  |  149600000\n",
    "Marte\t  |  227900000\n",
    "Júpiter\t  |  778600000\n",
    "Saturno\t  |  1433500000\n",
    "Urano\t  |  2872500000\n",
    "Neptuno\t  |  4495100000 \"\"\"\n",
    "\n",
    "\n",
    "planeta1 = int(input(\"Introduzca la distancia del primer planeta en KM: \"))\n",
    "planeta2 = int(input(\"Introduzca la distancia del segundo planeta en KM: \"))\n",
    "\n",
    "resp = planeta1 - planeta2\n",
    "\n",
    "distancia = f\"\"\"La distancia del Planeta 1 entre el Planeta 2 es de: {abs(resp)}\"\"\"\n",
    "print(distancia)\n",
    "\n",
    "distancia_mi = resp * 0.621\n",
    "print(\"La distancia en millas es de: \", abs(distancia_mi), \"millas\")"
   ]
  }
 ],
 "metadata": {
  "interpreter": {
   "hash": "4e0b39fdc4f2df2992ef135d097972ec225e019845a073717c5b1bc8df292c8a"
  },
  "kernelspec": {
   "display_name": "Python 3.10.2 64-bit",
   "language": "python",
   "name": "python3"
  },
  "language_info": {
   "codemirror_mode": {
    "name": "ipython",
    "version": 3
   },
   "file_extension": ".py",
   "mimetype": "text/x-python",
   "name": "python",
   "nbconvert_exporter": "python",
   "pygments_lexer": "ipython3",
   "version": "3.10.2"
  },
  "orig_nbformat": 4
 },
 "nbformat": 4,
 "nbformat_minor": 2
}
